{
 "cells": [
  {
   "cell_type": "code",
   "execution_count": 1,
   "metadata": {},
   "outputs": [],
   "source": [
    "from mido import MidiFile\n",
    "import warnings\n",
    "warnings.filterwarnings(\"ignore\")"
   ]
  },
  {
   "cell_type": "code",
   "execution_count": 2,
   "metadata": {},
   "outputs": [],
   "source": [
    "from commons import *"
   ]
  },
  {
   "cell_type": "code",
   "execution_count": 3,
   "metadata": {},
   "outputs": [],
   "source": [
    "## Importa la tabla que parsea numeros de notas a nombre y octava\n",
    "import pandas as pd\n",
    "import numpy as np\n",
    "import os, sys\n",
    "from contextlib import suppress\n",
    "import pickle  \n",
    "with open('dict_columns_total.pkl', 'rb') as df_pkl:\n",
    "        mask_columns = pickle.load(df_pkl)"
   ]
  },
  {
   "cell_type": "code",
   "execution_count": 75,
   "metadata": {},
   "outputs": [
    {
     "data": {
      "text/html": [
       "<div>\n",
       "<style scoped>\n",
       "    .dataframe tbody tr th:only-of-type {\n",
       "        vertical-align: middle;\n",
       "    }\n",
       "\n",
       "    .dataframe tbody tr th {\n",
       "        vertical-align: top;\n",
       "    }\n",
       "\n",
       "    .dataframe thead th {\n",
       "        text-align: right;\n",
       "    }\n",
       "</style>\n",
       "<table border=\"1\" class=\"dataframe\">\n",
       "  <thead>\n",
       "    <tr style=\"text-align: right;\">\n",
       "      <th></th>\n",
       "      <th>file</th>\n",
       "      <th>file_name</th>\n",
       "    </tr>\n",
       "  </thead>\n",
       "  <tbody>\n",
       "    <tr>\n",
       "      <th>0</th>\n",
       "      <td>C:\\dh\\FULL_MIDI\\Full_MIDI\\Categories\\unclassif...</td>\n",
       "      <td>'74-'75.mid</td>\n",
       "    </tr>\n",
       "    <tr>\n",
       "      <th>1</th>\n",
       "      <td>C:\\dh\\FULL_MIDI\\Full_MIDI\\Categories\\unclassif...</td>\n",
       "      <td>'74-'75.mid</td>\n",
       "    </tr>\n",
       "    <tr>\n",
       "      <th>2</th>\n",
       "      <td>C:\\dh\\FULL_MIDI\\Full_MIDI\\Categories\\unclassif...</td>\n",
       "      <td>'74-'75.txt</td>\n",
       "    </tr>\n",
       "    <tr>\n",
       "      <th>3</th>\n",
       "      <td>C:\\dh\\FULL_MIDI\\Full_MIDI\\Categories\\unclassif...</td>\n",
       "      <td>'74-'75.txt</td>\n",
       "    </tr>\n",
       "    <tr>\n",
       "      <th>4</th>\n",
       "      <td>C:\\dh\\FULL_MIDI\\Full_MIDI\\Categories\\unclassif...</td>\n",
       "      <td>'74-'75_2.mid</td>\n",
       "    </tr>\n",
       "    <tr>\n",
       "      <th>...</th>\n",
       "      <td>...</td>\n",
       "      <td>...</td>\n",
       "    </tr>\n",
       "    <tr>\n",
       "      <th>166912</th>\n",
       "      <td>C:\\dh\\FULL_MIDI\\Full_MIDI\\Z\\Z\\zz_top-tush.mid</td>\n",
       "      <td>zz_top-tush.mid</td>\n",
       "    </tr>\n",
       "    <tr>\n",
       "      <th>166913</th>\n",
       "      <td>C:\\dh\\FULL_MIDI\\Full_MIDI\\Z\\Z\\zzdq.MID</td>\n",
       "      <td>zzdq.MID</td>\n",
       "    </tr>\n",
       "    <tr>\n",
       "      <th>166914</th>\n",
       "      <td>C:\\dh\\FULL_MIDI\\Full_MIDI\\Z\\Z\\zzgsv.mid</td>\n",
       "      <td>zzgsv.mid</td>\n",
       "    </tr>\n",
       "    <tr>\n",
       "      <th>166915</th>\n",
       "      <td>C:\\dh\\FULL_MIDI\\Full_MIDI\\Z\\Z\\zzgundam.mid</td>\n",
       "      <td>zzgundam.mid</td>\n",
       "    </tr>\n",
       "    <tr>\n",
       "      <th>166916</th>\n",
       "      <td>C:\\dh\\FULL_MIDI\\Full_MIDI\\Z\\Z\\zzsw.mid</td>\n",
       "      <td>zzsw.mid</td>\n",
       "    </tr>\n",
       "  </tbody>\n",
       "</table>\n",
       "<p>166917 rows × 2 columns</p>\n",
       "</div>"
      ],
      "text/plain": [
       "                                                     file        file_name\n",
       "0       C:\\dh\\FULL_MIDI\\Full_MIDI\\Categories\\unclassif...      '74-'75.mid\n",
       "1       C:\\dh\\FULL_MIDI\\Full_MIDI\\Categories\\unclassif...      '74-'75.mid\n",
       "2       C:\\dh\\FULL_MIDI\\Full_MIDI\\Categories\\unclassif...      '74-'75.txt\n",
       "3       C:\\dh\\FULL_MIDI\\Full_MIDI\\Categories\\unclassif...      '74-'75.txt\n",
       "4       C:\\dh\\FULL_MIDI\\Full_MIDI\\Categories\\unclassif...    '74-'75_2.mid\n",
       "...                                                   ...              ...\n",
       "166912      C:\\dh\\FULL_MIDI\\Full_MIDI\\Z\\Z\\zz_top-tush.mid  zz_top-tush.mid\n",
       "166913             C:\\dh\\FULL_MIDI\\Full_MIDI\\Z\\Z\\zzdq.MID         zzdq.MID\n",
       "166914            C:\\dh\\FULL_MIDI\\Full_MIDI\\Z\\Z\\zzgsv.mid        zzgsv.mid\n",
       "166915         C:\\dh\\FULL_MIDI\\Full_MIDI\\Z\\Z\\zzgundam.mid     zzgundam.mid\n",
       "166916             C:\\dh\\FULL_MIDI\\Full_MIDI\\Z\\Z\\zzsw.mid         zzsw.mid\n",
       "\n",
       "[166917 rows x 2 columns]"
      ]
     },
     "metadata": {},
     "output_type": "display_data"
    }
   ],
   "source": [
    "## Busca todos los archivos en un directorio y los guarda en un DataFrame\n",
    "files_path = str(sys.path[0]) + '\\Full_MIDI'\n",
    "\n",
    "dict = {}\n",
    "count_files = 0\n",
    "      \n",
    "for root, dirs, files in os.walk(files_path, topdown=False):\n",
    "    for name_file in files:\n",
    "        dict[count_files] = {\"file\": os.path.join(root, name_file), \"file_name\": name_file}\n",
    "        count_files = count_files + 1\n",
    "\n",
    "df_files = pd.DataFrame.from_dict(dict, \"index\")\n",
    "df_files.sort_values('file_name',inplace=True)\n",
    "df_files.reset_index(inplace=True,drop=True)\n",
    "display(df_files)"
   ]
  },
  {
   "cell_type": "code",
   "execution_count": 96,
   "metadata": {},
   "outputs": [
    {
     "name": "stdout",
     "output_type": "stream",
     "text": [
      "55258 76985\n"
     ]
    }
   ],
   "source": [
    "## Permite administrar la generacion del dataset paralelizando el proceso, por BATCHES\n",
    "BATCH_SIZE = 4000\n",
    "files_from = 55258\n",
    "files_to = 76985\n",
    "CSV_SAVE = 'midi_stats_vX7'\n",
    "print(files_from,files_to)"
   ]
  },
  {
   "cell_type": "code",
   "execution_count": 92,
   "metadata": {},
   "outputs": [],
   "source": [
    "dict = {}\n",
    "count_files = 0\n",
    "count_batch = 0\n",
    "errors_arr = []"
   ]
  },
  {
   "cell_type": "code",
   "execution_count": 97,
   "metadata": {},
   "outputs": [
    {
     "name": "stdout",
     "output_type": "stream",
     "text": [
      "zuccherina_polka-it_ab.mid G\n",
      "sec: 139.49999999999923\n",
      "comp: 139\n",
      "success 20684 / 76982\n",
      "batch 5\n"
     ]
    }
   ],
   "source": [
    "for index, row in df_files[files_from:files_to].iterrows():\n",
    "    with suppress(Exception):\n",
    "        if ((count_files % BATCH_SIZE == 0) and (count_files > 0)):\n",
    "            print('SAVING!!')\n",
    "            df_midi_stats = pd.DataFrame.from_dict(dict, \"index\")   \n",
    "            keep_columns = (df_midi_stats.isnull().sum() / df_midi_stats.shape[0]) <= 0.98\n",
    "            #           keep_columns = list(set(mask_columns) & set(df_midi_stats.columns))\n",
    "            df_midi_stats.loc[:,keep_columns].to_csv(CSV_SAVE + '.csv')\n",
    "            print('SAVED!!')\n",
    "            del df_midi_stats\n",
    "            count_batch = count_batch + 1\n",
    "\n",
    "        dict[count_files] = get_theme_stats(row.file, row.file_name)[0] \n",
    "\n",
    "        count_files = count_files + 1\n",
    "        print('success', str(count_files), '/', index + 1)\n",
    "        print('batch', str(count_batch))"
   ]
  },
  {
   "cell_type": "code",
   "execution_count": 98,
   "metadata": {},
   "outputs": [
    {
     "name": "stdout",
     "output_type": "stream",
     "text": [
      "SAVED!!\n"
     ]
    }
   ],
   "source": [
    "# keep_columns = list(set(mask_columns) & set(df_midi_stats.columns))\n",
    "df_midi_stats = pd.DataFrame.from_dict(dict, \"index\")   \n",
    "keep_columns = (df_midi_stats.isnull().sum() / df_midi_stats.shape[0]) <= 0.98\n",
    "df_midi_stats.loc[:,keep_columns].to_csv(CSV_SAVE + '.csv')\n",
    "print('SAVED!!')\n",
    "del df_midi_stats"
   ]
  }
 ],
 "metadata": {
  "kernelspec": {
   "display_name": "Python 3",
   "language": "python",
   "name": "python3"
  },
  "language_info": {
   "codemirror_mode": {
    "name": "ipython",
    "version": 3
   },
   "file_extension": ".py",
   "mimetype": "text/x-python",
   "name": "python",
   "nbconvert_exporter": "python",
   "pygments_lexer": "ipython3",
   "version": "3.7.9"
  }
 },
 "nbformat": 4,
 "nbformat_minor": 4
}
