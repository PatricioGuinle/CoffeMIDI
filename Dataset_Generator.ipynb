{
 "cells": [
  {
   "cell_type": "code",
   "execution_count": 1,
   "metadata": {},
   "outputs": [],
   "source": [
    "from mido import MidiFile\n",
    "import warnings\n",
    "warnings.filterwarnings(\"ignore\")\n",
    "from commons import *\n",
    "import pandas as pd\n",
    "import numpy as np\n",
    "import os, sys\n",
    "from contextlib import suppress\n",
    "import pickle  \n",
    "from sklearn.preprocessing import StandardScaler"
   ]
  },
  {
   "cell_type": "code",
   "execution_count": null,
   "metadata": {},
   "outputs": [],
   "source": [
    "files_path = str(sys.path[0]) + '\\Full_MIDI'\n",
    "\n",
    "dict = {}\n",
    "count_files = 0\n",
    "      \n",
    "for root, dirs, files in os.walk(files_path, topdown=False):\n",
    "    for name_file in files:\n",
    "        dict[count_files] = {\"file\": os.path.join(root, name_file), \"file_name\": name_file}\n",
    "        count_files = count_files + 1\n",
    "\n",
    "df_files = pd.DataFrame.from_dict(dict, \"index\")\n",
    "df_files.sort_values('file_name',inplace=True)\n",
    "df_files.reset_index(inplace=True,drop=True)\n",
    "display(df_files)"
   ]
  },
  {
   "cell_type": "code",
   "execution_count": 3,
   "metadata": {},
   "outputs": [
    {
     "name": "stdout",
     "output_type": "stream",
     "text": [
      "0 25\n"
     ]
    }
   ],
   "source": [
    "BATCH_SIZE = 50\n",
    "files_from = 0\n",
    "files_to = 50\n",
    "CSV_SAVE = 'df_scaled'\n",
    "print(files_from,files_to)"
   ]
  },
  {
   "cell_type": "code",
   "execution_count": 4,
   "metadata": {},
   "outputs": [],
   "source": [
    "dict = {}\n",
    "count_files = 0\n",
    "count_batch = 0\n",
    "errors_arr = []"
   ]
  },
  {
   "cell_type": "code",
   "execution_count": null,
   "metadata": {},
   "outputs": [],
   "source": [
    "for index, row in df_files[files_from:files_to].iterrows():\n",
    "    with suppress(Exception):\n",
    "        if ((count_files % BATCH_SIZE == 0) and (count_files > 0)):\n",
    "            \n",
    "            SaveAllFiles(dict, files_path)\n",
    "            \n",
    "            del df_midi_stats\n",
    "            count_batch = count_batch + 1\n",
    "\n",
    "        dict[count_files] = get_theme_stats(row.file, row.file_name)[0] \n",
    "\n",
    "        count_files = count_files + 1\n",
    "        print('success', str(count_files), '/', index + 1)\n",
    "        print('batch', str(count_batch))\n",
    "\n",
    "SaveAllFiles(dict, files_path)"
   ]
  }
 ],
 "metadata": {
  "kernelspec": {
   "display_name": "Python 3",
   "language": "python",
   "name": "python3"
  },
  "language_info": {
   "codemirror_mode": {
    "name": "ipython",
    "version": 3
   },
   "file_extension": ".py",
   "mimetype": "text/x-python",
   "name": "python",
   "nbconvert_exporter": "python",
   "pygments_lexer": "ipython3",
   "version": "3.7.9"
  }
 },
 "nbformat": 4,
 "nbformat_minor": 4
}
