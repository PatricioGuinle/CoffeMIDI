{
 "cells": [
  {
   "cell_type": "code",
   "execution_count": 1,
   "metadata": {},
   "outputs": [],
   "source": [
    "from mido import MidiFile\n",
    "import warnings\n",
    "warnings.filterwarnings(\"ignore\")\n",
    "from commons import *\n",
    "import pandas as pd\n",
    "import numpy as np\n",
    "import os, sys\n",
    "from contextlib import suppress\n",
    "import pickle  \n",
    "from sklearn.preprocessing import StandardScaler"
   ]
  },
  {
   "cell_type": "code",
   "execution_count": 2,
   "metadata": {},
   "outputs": [
    {
     "data": {
      "text/html": [
       "<div>\n",
       "<style scoped>\n",
       "    .dataframe tbody tr th:only-of-type {\n",
       "        vertical-align: middle;\n",
       "    }\n",
       "\n",
       "    .dataframe tbody tr th {\n",
       "        vertical-align: top;\n",
       "    }\n",
       "\n",
       "    .dataframe thead th {\n",
       "        text-align: right;\n",
       "    }\n",
       "</style>\n",
       "<table border=\"1\" class=\"dataframe\">\n",
       "  <thead>\n",
       "    <tr style=\"text-align: right;\">\n",
       "      <th></th>\n",
       "      <th>file</th>\n",
       "      <th>file_name</th>\n",
       "    </tr>\n",
       "  </thead>\n",
       "  <tbody>\n",
       "    <tr>\n",
       "      <th>0</th>\n",
       "      <td>C:\\dh\\FULL_MIDI\\Full_MIDI\\Categories\\unclassif...</td>\n",
       "      <td>'74-'75.mid</td>\n",
       "    </tr>\n",
       "    <tr>\n",
       "      <th>1</th>\n",
       "      <td>C:\\dh\\FULL_MIDI\\Full_MIDI\\Categories\\Classical...</td>\n",
       "      <td>'Lieder ohne Worte' Book 2 op30 n3.mid</td>\n",
       "    </tr>\n",
       "    <tr>\n",
       "      <th>2</th>\n",
       "      <td>C:\\dh\\FULL_MIDI\\Full_MIDI\\Categories\\Pop_and_T...</td>\n",
       "      <td>(Dj Quicksilver) bellisima.mid</td>\n",
       "    </tr>\n",
       "    <tr>\n",
       "      <th>3</th>\n",
       "      <td>C:\\dh\\FULL_MIDI\\Full_MIDI\\Categories\\unclassif...</td>\n",
       "      <td>(TEARS).MID</td>\n",
       "    </tr>\n",
       "    <tr>\n",
       "      <th>4</th>\n",
       "      <td>C:\\dh\\FULL_MIDI\\Full_MIDI\\Categories\\2009 MIDI...</td>\n",
       "      <td>(Your Love Keeps Lifting Me) Higher and Higher...</td>\n",
       "    </tr>\n",
       "    <tr>\n",
       "      <th>...</th>\n",
       "      <td>...</td>\n",
       "      <td>...</td>\n",
       "    </tr>\n",
       "    <tr>\n",
       "      <th>88230</th>\n",
       "      <td>C:\\dh\\FULL_MIDI\\Full_MIDI\\Z\\Z\\zyysayr.mid</td>\n",
       "      <td>zyysayr.mid</td>\n",
       "    </tr>\n",
       "    <tr>\n",
       "      <th>88231</th>\n",
       "      <td>C:\\dh\\FULL_MIDI\\Full_MIDI\\Z\\Z\\zz_top-shes_just...</td>\n",
       "      <td>zz_top-shes_just_killing_me.mid</td>\n",
       "    </tr>\n",
       "    <tr>\n",
       "      <th>88232</th>\n",
       "      <td>C:\\dh\\FULL_MIDI\\Full_MIDI\\Z\\Z\\zzdq.MID</td>\n",
       "      <td>zzdq.MID</td>\n",
       "    </tr>\n",
       "    <tr>\n",
       "      <th>88233</th>\n",
       "      <td>C:\\dh\\FULL_MIDI\\Full_MIDI\\Z\\Z\\zzgsv.mid</td>\n",
       "      <td>zzgsv.mid</td>\n",
       "    </tr>\n",
       "    <tr>\n",
       "      <th>88234</th>\n",
       "      <td>C:\\dh\\FULL_MIDI\\Full_MIDI\\Z\\Z\\zzgundam.mid</td>\n",
       "      <td>zzgundam.mid</td>\n",
       "    </tr>\n",
       "  </tbody>\n",
       "</table>\n",
       "<p>88235 rows × 2 columns</p>\n",
       "</div>"
      ],
      "text/plain": [
       "                                                    file  \\\n",
       "0      C:\\dh\\FULL_MIDI\\Full_MIDI\\Categories\\unclassif...   \n",
       "1      C:\\dh\\FULL_MIDI\\Full_MIDI\\Categories\\Classical...   \n",
       "2      C:\\dh\\FULL_MIDI\\Full_MIDI\\Categories\\Pop_and_T...   \n",
       "3      C:\\dh\\FULL_MIDI\\Full_MIDI\\Categories\\unclassif...   \n",
       "4      C:\\dh\\FULL_MIDI\\Full_MIDI\\Categories\\2009 MIDI...   \n",
       "...                                                  ...   \n",
       "88230          C:\\dh\\FULL_MIDI\\Full_MIDI\\Z\\Z\\zyysayr.mid   \n",
       "88231  C:\\dh\\FULL_MIDI\\Full_MIDI\\Z\\Z\\zz_top-shes_just...   \n",
       "88232             C:\\dh\\FULL_MIDI\\Full_MIDI\\Z\\Z\\zzdq.MID   \n",
       "88233            C:\\dh\\FULL_MIDI\\Full_MIDI\\Z\\Z\\zzgsv.mid   \n",
       "88234         C:\\dh\\FULL_MIDI\\Full_MIDI\\Z\\Z\\zzgundam.mid   \n",
       "\n",
       "                                               file_name  \n",
       "0                                            '74-'75.mid  \n",
       "1                 'Lieder ohne Worte' Book 2 op30 n3.mid  \n",
       "2                         (Dj Quicksilver) bellisima.mid  \n",
       "3                                            (TEARS).MID  \n",
       "4      (Your Love Keeps Lifting Me) Higher and Higher...  \n",
       "...                                                  ...  \n",
       "88230                                        zyysayr.mid  \n",
       "88231                    zz_top-shes_just_killing_me.mid  \n",
       "88232                                           zzdq.MID  \n",
       "88233                                          zzgsv.mid  \n",
       "88234                                       zzgundam.mid  \n",
       "\n",
       "[88235 rows x 2 columns]"
      ]
     },
     "metadata": {},
     "output_type": "display_data"
    }
   ],
   "source": [
    "files_path = str(sys.path[0]) + '\\Full_MIDI'\n",
    "\n",
    "dict = {}\n",
    "count_files = 0\n",
    "      \n",
    "for root, dirs, files in os.walk(files_path, topdown=False):\n",
    "    for name_file in files:\n",
    "        dict[count_files] = {\"file\": os.path.join(root, name_file), \"file_name\": name_file}\n",
    "        count_files = count_files + 1\n",
    "\n",
    "df_files = pd.DataFrame.from_dict(dict, \"index\")\n",
    "df_files.sort_values('file_name',inplace=True)\n",
    "df_files.reset_index(inplace=True,drop=True)\n",
    "display(df_files)"
   ]
  },
  {
   "cell_type": "code",
   "execution_count": 3,
   "metadata": {},
   "outputs": [
    {
     "name": "stdout",
     "output_type": "stream",
     "text": [
      "0 25\n"
     ]
    }
   ],
   "source": [
    "BATCH_SIZE = 25\n",
    "files_from = 0\n",
    "files_to = 25\n",
    "CSV_SAVE = 'df_scaled'\n",
    "print(files_from,files_to)"
   ]
  },
  {
   "cell_type": "code",
   "execution_count": 4,
   "metadata": {},
   "outputs": [],
   "source": [
    "dict = {}\n",
    "count_files = 0\n",
    "count_batch = 0\n",
    "errors_arr = []"
   ]
  },
  {
   "cell_type": "code",
   "execution_count": 5,
   "metadata": {},
   "outputs": [
    {
     "name": "stdout",
     "output_type": "stream",
     "text": [
      ".Study No.3, Retour du pâtre, opus.109.mid G\n",
      "sec: 91.04562980078107\n",
      "comp: 37\n",
      "success 25 / 25\n",
      "batch 0\n",
      "SAVING!!\n",
      "SAVED!!\n"
     ]
    }
   ],
   "source": [
    "for index, row in df_files[files_from:files_to].iterrows():\n",
    "    with suppress(Exception):\n",
    "        if ((count_files % BATCH_SIZE == 0) and (count_files > 0)):\n",
    "            \n",
    "            SaveAllFiles(dict, files_path)\n",
    "            \n",
    "            del df_midi_stats\n",
    "            count_batch = count_batch + 1\n",
    "\n",
    "        dict[count_files] = get_theme_stats(row.file, row.file_name)[0] \n",
    "\n",
    "        count_files = count_files + 1\n",
    "        print('success', str(count_files), '/', index + 1)\n",
    "        print('batch', str(count_batch))\n",
    "\n",
    "SaveAllFiles(dict, files_path)"
   ]
  }
 ],
 "metadata": {
  "kernelspec": {
   "display_name": "Python 3",
   "language": "python",
   "name": "python3"
  },
  "language_info": {
   "codemirror_mode": {
    "name": "ipython",
    "version": 3
   },
   "file_extension": ".py",
   "mimetype": "text/x-python",
   "name": "python",
   "nbconvert_exporter": "python",
   "pygments_lexer": "ipython3",
   "version": "3.7.9"
  }
 },
 "nbformat": 4,
 "nbformat_minor": 4
}
