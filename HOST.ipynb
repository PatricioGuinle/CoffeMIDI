{
 "cells": [
  {
   "cell_type": "code",
   "execution_count": 1,
   "metadata": {},
   "outputs": [],
   "source": [
    "import pandas as pd\n",
    "import numpy as np\n",
    "from urllib.parse import unquote\n",
    "import os\n",
    "from contextlib import suppress\n",
    "import warnings\n",
    "warnings.filterwarnings(\"ignore\")\n",
    "from sklearn.preprocessing import StandardScaler\n",
    "import pickle  \n",
    "from sklearn.metrics.pairwise import cosine_similarity\n",
    "\n",
    "with open('dist/dict_columns_groups.pkl', 'rb') as pkl:\n",
    "        dict_columns_groups = pickle.load(pkl)\n",
    "        \n",
    "with open('dist/lgbm_clf.pkl', 'rb') as pkl:\n",
    "        LightGBM = pickle.load(pkl)"
   ]
  },
  {
   "cell_type": "code",
   "execution_count": 2,
   "metadata": {},
   "outputs": [],
   "source": [
    "# Nuestra librería de funciones\n",
    "from commons import *"
   ]
  },
  {
   "cell_type": "code",
   "execution_count": 100,
   "metadata": {},
   "outputs": [
    {
     "data": {
      "text/plain": [
       "(88359, 509)"
      ]
     },
     "execution_count": 100,
     "metadata": {},
     "output_type": "execute_result"
    }
   ],
   "source": [
    "data_midi = pd.read_csv('data_midi_drop.csv',sep=\",\")\n",
    "data_midi.shape"
   ]
  },
  {
   "cell_type": "code",
   "execution_count": 101,
   "metadata": {},
   "outputs": [],
   "source": [
    "colums_categorized = []\n",
    "for keys in dict_columns_groups:\n",
    "    for values in dict_columns_groups[keys]:\n",
    "        colums_categorized.append(values)\n",
    "        \n",
    "colums_categorized\n",
    "\n",
    "columns_not_categorized = []\n",
    "for col in data_midi.columns:\n",
    "    if col not in colums_categorized:\n",
    "        columns_not_categorized.append(col)\n",
    "\n",
    "columns_not_categorized.remove('tema')\n",
    "columns_not_categorized.remove('path')\n",
    "columns_not_categorized.remove('indice')\n",
    "columns_not_categorized.remove('Cluster')"
   ]
  },
  {
   "cell_type": "code",
   "execution_count": 102,
   "metadata": {},
   "outputs": [],
   "source": [
    "def cosine_similarity_row(X__sc, vec_a,indice):\n",
    "    vec_b = X__sc\n",
    "    # TODO: vectorizar el cosine_similarity\n",
    "    cosine_list =cosine_similarity([vec_a], vec_b).reshape(-1)\n",
    "    similarity = pd.Series(cosine_list,index=indice).sort_values(ascending=False)\n",
    "    return similarity"
   ]
  },
  {
   "cell_type": "code",
   "execution_count": 103,
   "metadata": {},
   "outputs": [],
   "source": [
    "data_midi.set_index(data_midi.indice,inplace=True,drop=False)\n",
    "data_index = data_midi[['indice', 'Cluster']]\n",
    "\n",
    "data_midi.fillna(0, inplace=True)\n",
    "X=data_midi.drop(['tema','indice','path', 'Cluster'],axis=1)\n",
    "data_midi.index\n",
    "\n",
    "sc = StandardScaler()\n",
    "sc.fit(X)\n",
    "X__sc = sc.transform(X)\n",
    "del data_midi\n",
    "\n",
    "df_scaled = pd.DataFrame(X__sc,columns=X.columns)\n",
    "df_scaled.set_index(data_index['indice'],inplace=True)\n",
    "df_scaled['Cluster'] = data_index['Cluster']\n",
    "data_index['indice_lower_search'] = data_index['indice'].apply(lambda x: x.lower().replace('-',' ').replace('_',' '))\n",
    "data_index['indice_lower'] = data_index['indice'].apply(lambda x: x.lower())\n",
    "del data_index['Cluster']"
   ]
  },
  {
   "cell_type": "code",
   "execution_count": 8,
   "metadata": {},
   "outputs": [],
   "source": [
    "# Iniciamos nuestra API\n",
    "import requests\n",
    "from flask import  Flask, request, jsonify, render_template, send_file, safe_join, abort\n",
    "app = Flask('recomendar canciones')"
   ]
  },
  {
   "cell_type": "code",
   "execution_count": null,
   "metadata": {},
   "outputs": [],
   "source": [
    "@app.route(\"/search_titles\",methods=['GET'])\n",
    "def search_titles(data_index=data_index, sc=sc):   \n",
    "    search=request.args['search']\n",
    "    page_number =int(request.args['page_number'])\n",
    "    cant_resultados = int(request.args['cant_resultados'])\n",
    "\n",
    "    page_from = page_number*cant_resultados\n",
    "    page_to = page_from + cant_resultados\n",
    "    print(page_from,page_to)\n",
    "    result = data_index[data_index['indice_lower_search'].str.contains(search.lower())].indice[page_from:page_to].to_dict()\n",
    "    response = jsonify(result)\n",
    "    # Enable Access-Control-Allow-Origin\n",
    "    response.headers.add(\"Access-Control-Allow-Origin\", \"*\")\n",
    "    return response"
   ]
  },
  {
   "cell_type": "code",
   "execution_count": null,
   "metadata": {},
   "outputs": [],
   "source": [
    "@app.route(\"/similarity_songs\",methods=['GET'])\n",
    "def get_simil_songs():   \n",
    "    \n",
    "    duracion_notas =float(request.args['duracion_notas'])\n",
    "    amplitud_tonal = float(request.args['amplitud_tonal'])\n",
    "    ritmica_instrument = float(request.args['ritmica_instrument']) \n",
    "    ritmica_drums = float(request.args['ritmica_drums'])\n",
    "    armonia = float(request.args['armonia'])\n",
    "    dinamica = float(request.args['dinamica'])\n",
    "    instrumentacion = float(request.args['instrumentacion'])\n",
    "    tempo = float(request.args['tempo'])\n",
    "    notas_simultaneas = float(request.args['notas_simultaneas']) \n",
    "    duracion_tema = float(request.args['duracion_tema']) \n",
    "    others = float(request.args['others'])\n",
    "    penalizacion = float(request.args['penalizacion'])\n",
    "    filtrar=request.args['filtrar']\n",
    "    \n",
    "    song1 = request.args['song1']\n",
    "    song2 = request.args['song2']\n",
    "    \n",
    "    data = data_midi\n",
    "        \n",
    "    data.set_index(data.tema,inplace=True,drop=False)\n",
    "    data = data.iloc[:,0:len(data_midi.columns)]\n",
    "    data.fillna(0, inplace=True)\n",
    "    X=data.drop(['tema','indice','path'],axis=1)\n",
    "    \n",
    "    sc = StandardScaler()\n",
    "    X__sc = sc.fit_transform(X)\n",
    "\n",
    "    df_scaled = pd.DataFrame(X__sc,columns=X.columns)\n",
    "    df_scaled.set_index(data.indice,inplace=True)\n",
    "    df_scaled\n",
    "    \n",
    "    mask_category =  np.full((data.shape[0],1), True, dtype=bool)\n",
    "        \n",
    "    dict_key_values = {'instrumentacion':instrumentacion,\n",
    "                     'ritmica_drums':ritmica_drums ,\n",
    "                     'ritmica_instrument':ritmica_instrument ,\n",
    "                     'amplitud_tonal':amplitud_tonal ,\n",
    "                     'dinamica':dinamica, \n",
    "                     'duracion_notas1':duracion_notas, \n",
    "                     'duracion_notas2':duracion_notas, \n",
    "                     'notas_simultaneas':notas_simultaneas ,\n",
    "                     'tempo':tempo, \n",
    "                     'duracion_tema':duracion_tema ,\n",
    "                     'armonia1':armonia, \n",
    "                     'armonia2':armonia, \n",
    "                     'armonia3':armonia, \n",
    "                     'armonia4':armonia, \n",
    "                     'armonia5':armonia}\n",
    "\n",
    "    \n",
    "    # La penalizacion genera un orden de magnitud para la distancia minima a la hora de calcular el cosine_similarity\n",
    "    # Si la penalización es 1, el min_sim_distance sera de 0.1, si es 2 sera de 0.01\n",
    "    # Como resultante las columnas penalizades tendrán aún menos relevancia a la hora de rastreas similitudes entre temas \n",
    "    min_sim_distance = 1 / 10**penalizacion \n",
    "    \n",
    "    for keys in dict_key_values.keys():\n",
    "        cant_keys = len(dict_columns_groups[keys])\n",
    "        for column in dict_columns_groups[keys]:\n",
    "            df_scaled[column] = (df_scaled[column] / np.sqrt(cant_keys)) * (dict_key_values[keys] + min_sim_distance)\n",
    "\n",
    "    for column in columns_not_categorized:\n",
    "        df_scaled[column] = (df_scaled[column] / np.sqrt(cant_keys) ) * (others + min_sim_distance)\n",
    "        \n",
    "    df_scaled = df_scaled.loc[[song1, song2]]\n",
    "\n",
    "    if (filtrar == 'True'):\n",
    "        df_values = df_scaled.sum(axis=0)\n",
    "        df_values_mask = df_values > 0\n",
    "        df_scaled = df_scaled.loc[:,df_values_mask]\n",
    "        print('columnas sin filtrar:',df_values_mask.count())\n",
    "        \n",
    "        \n",
    "    df_diff = df_scaled.diff().abs().iloc[1].T.sort_values(ascending=False)\n",
    "\n",
    "    \n",
    "    return df_diff.to_json()"
   ]
  },
  {
   "cell_type": "code",
   "execution_count": null,
   "metadata": {},
   "outputs": [],
   "source": [
    "@app.route(\"/related_songs\",methods=['GET'])\n",
    "def get_related_songs(df_scaled=df_scaled, sc=sc):   \n",
    "    data=df_scaled.copy()\n",
    "    search=request.args['search']\n",
    "    predict=request.args['predict']\n",
    "    filtrar=request.args['filtrar']\n",
    "    duracion_notas =float(request.args['duracion_notas'])\n",
    "    amplitud_tonal = float(request.args['amplitud_tonal'])\n",
    "    ritmica_instrument = float(request.args['ritmica_instrument']) \n",
    "    ritmica_drums = float(request.args['ritmica_drums'])\n",
    "    armonia = float(request.args['armonia'])\n",
    "    dinamica = float(request.args['dinamica'])\n",
    "    instrumentacion = float(request.args['instrumentacion'])\n",
    "    tempo = float(request.args['tempo'])\n",
    "    notas_simultaneas = float(request.args['notas_simultaneas']) \n",
    "    duracion_tema = float(request.args['duracion_tema']) \n",
    "    cant_resultados = int(request.args['cant_resultados'])\n",
    "    others = float(request.args['others'])\n",
    "    penalizacion = float(request.args['penalizacion'])\n",
    "    page_number =int(request.args['page_number'])\n",
    "    clusterizar=request.args['clusterizar']\n",
    "    \n",
    "    print(search)\n",
    "    search_song = data_index[data_index['indice_lower'] == search.lower()].indice.iloc[0]\n",
    "    new_midi = \"\"\n",
    "    cluster = \"\"\n",
    "    if (search.lower() == 'false'):\n",
    "        new_midi = get_midi_from_path()   \n",
    "        tema = new_midi.tema \n",
    "        midi_df_cols = pd.DataFrame(columns=data.columns).drop(['Cluster'],axis=1)\n",
    "        mask_columns = list(set(df_scaled.columns) & set(new_midi.columns))\n",
    "        new_midi = new_midi[mask_columns]\n",
    "        midi_df = pd.concat([midi_df_cols, new_midi])\n",
    "        midi_df.fillna(0, inplace=True)\n",
    "        new_midi = sc.transform(midi_df) \n",
    "        cluster = LightGBM.predict(new_midi)[0]\n",
    "        print('predicted cluster:',cluster) \n",
    "        midi_df = pd.DataFrame(new_midi, columns=midi_df_cols.columns)\n",
    "        midi_df['Cluster'] = cluster\n",
    "        data = pd.concat([data, midi_df]) \n",
    "        path = '..\\GET_FILE\\\\'         \n",
    "        data.iloc[data.shape[0] - 1:data.shape[0],:].index = path + tema\n",
    "        search_song = data.iloc[data.shape[0] - 1:data.shape[0],:].index    \n",
    "        print('tema:',search_song)\n",
    "    else:\n",
    "        cluster = data[data.index == search_song].Cluster.iloc[0]     \n",
    "        print('cluster:',cluster)   \n",
    "        \n",
    "    mask_cluster = data['Cluster'] == cluster\n",
    "    if (clusterizar.lower() == 'true'):\n",
    "        data = data[mask_cluster]\n",
    "        print(cluster, data.shape)\n",
    "    \n",
    "    dict_key_values = {'instrumentacion':instrumentacion,\n",
    "                     'ritmica_drums':ritmica_drums ,\n",
    "                     'ritmica_instrument':ritmica_instrument ,\n",
    "                     'amplitud_tonal':amplitud_tonal ,\n",
    "                     'dinamica':dinamica, \n",
    "                     'duracion_notas1':duracion_notas, \n",
    "                     'duracion_notas2':duracion_notas, \n",
    "                     'notas_simultaneas':notas_simultaneas ,\n",
    "                     'tempo':tempo, \n",
    "                     'duracion_tema':duracion_tema ,\n",
    "                     'armonia1':armonia, \n",
    "                     'armonia2':armonia, \n",
    "                     'armonia3':armonia, \n",
    "                     'armonia4':armonia, \n",
    "                     'armonia5':armonia}\n",
    "\n",
    "    min_sim_distance = 1 / 10**penalizacion \n",
    "    \n",
    "    for keys in dict_key_values.keys():\n",
    "        cant_keys = len(dict_columns_groups[keys])\n",
    "        for column in dict_columns_groups[keys]:\n",
    "            data[column] = (data[column] / np.sqrt(cant_keys)) * (dict_key_values[keys] + min_sim_distance)\n",
    "\n",
    "    for column in columns_not_categorized:\n",
    "        data[column] = (data[column] / np.sqrt(cant_keys) ) * (others + min_sim_distance)\n",
    "     \n",
    "    song = data.loc[search_song,:]\n",
    "    if (isinstance(song, pd.Series) == False):\n",
    "        song = song.iloc[0]\n",
    "    \n",
    "    if (filtrar.lower() == 'true'):\n",
    "        song_values_mask = (song > 0).index\n",
    "        data = data.loc[:,song_values_mask]\n",
    "    print(type(data.loc[search_song,:]))\n",
    "    \n",
    "    similarity = cosine_similarity_row(data.to_numpy(), song.array, data.index)\n",
    "    page_from = page_number*cant_resultados\n",
    "    page_to = page_from + cant_resultados\n",
    "    result = similarity.iloc[page_from:page_to:].reset_index()\n",
    "    result.columns = ['path', 'value']\n",
    "    result = result.to_dict()\n",
    "    response = jsonify(result)\n",
    "    # Enable Access-Control-Allow-Origin\n",
    "    response.headers.add(\"Access-Control-Allow-Origin\", \"*\")\n",
    "    \n",
    "    return response"
   ]
  },
  {
   "cell_type": "code",
   "execution_count": null,
   "metadata": {},
   "outputs": [],
   "source": [
    "app.config[\"FILES_PATH\"] = \"Full_MIDI\"\n",
    "@app.route(\"/get-file/<path:filename>\")\n",
    "def get_file(filename):\n",
    "    safe_path = safe_join(app.config[\"FILES_PATH\"], filename)\n",
    "    print(safe_path)\n",
    "    try:\n",
    "        response = send_file(safe_path, as_attachment=True)\n",
    "        response.headers.add(\"Access-Control-Allow-Origin\", \"*\")\n",
    "        return response\n",
    "    except FileNotFoundError:\n",
    "        abort(404)"
   ]
  },
  {
   "cell_type": "code",
   "execution_count": null,
   "metadata": {},
   "outputs": [],
   "source": [
    "app.run(host='0.0.0.0')"
   ]
  },
  {
   "cell_type": "code",
   "execution_count": 21,
   "metadata": {},
   "outputs": [
    {
     "name": "stdout",
     "output_type": "stream",
     "text": [
      "20 30\n"
     ]
    },
    {
     "data": {
      "text/plain": [
       "{\"Categories\\\\Classical\\\\Beethoven\\\\Piano Sonatas\\\\Piano Sonata n08 op13 1mov ''Pathetique''.mid\": \"Categories\\\\Classical\\\\Beethoven\\\\Piano Sonatas\\\\Piano Sonata n08 op13 1mov ''Pathetique''.mid\",\n",
       " \"Categories\\\\Classical\\\\Beethoven\\\\Piano Sonatas\\\\Piano Sonata n08 op13 2mov ''Pathetique''.mid\": \"Categories\\\\Classical\\\\Beethoven\\\\Piano Sonatas\\\\Piano Sonata n08 op13 2mov ''Pathetique''.mid\",\n",
       " \"Categories\\\\Classical\\\\Beethoven\\\\Piano Sonatas\\\\Piano Sonata n08 op13 3mov ''Pathetique''.mid\": \"Categories\\\\Classical\\\\Beethoven\\\\Piano Sonatas\\\\Piano Sonata n08 op13 3mov ''Pathetique''.mid\",\n",
       " \"Categories\\\\Classical\\\\Beethoven\\\\Piano Sonatas\\\\Piano Sonata n14 op27 1mov ''Moonlight''.mid\": \"Categories\\\\Classical\\\\Beethoven\\\\Piano Sonatas\\\\Piano Sonata n14 op27 1mov ''Moonlight''.mid\",\n",
       " \"Categories\\\\Classical\\\\Beethoven\\\\Piano Sonatas\\\\Piano Sonata n14 op27 3mov ''Moonlight''.mid\": \"Categories\\\\Classical\\\\Beethoven\\\\Piano Sonatas\\\\Piano Sonata n14 op27 3mov ''Moonlight''.mid\",\n",
       " \"Categories\\\\Classical\\\\Beethoven\\\\Piano Sonatas\\\\Piano Sonata n14 op27 2mov ''Moonlight''.mid\": \"Categories\\\\Classical\\\\Beethoven\\\\Piano Sonatas\\\\Piano Sonata n14 op27 2mov ''Moonlight''.mid\",\n",
       " \"Categories\\\\Classical\\\\Beethoven\\\\Piano Sonatas\\\\Piano Sonata n29 Op106 ''Hammerklavier''.mid\": \"Categories\\\\Classical\\\\Beethoven\\\\Piano Sonatas\\\\Piano Sonata n29 Op106 ''Hammerklavier''.mid\",\n",
       " 'Classical_Guitar_classicalguitarmidi.com_MIDIRip\\\\Beethoven_Symphony_No7_allegretto.mid': 'Classical_Guitar_classicalguitarmidi.com_MIDIRip\\\\Beethoven_Symphony_No7_allegretto.mid',\n",
       " 'Categories\\\\Classical\\\\Classical Piano Midis\\\\Beethoven\\\\Sonata, Opus.111 C minor No.1.mid': 'Categories\\\\Classical\\\\Classical Piano Midis\\\\Beethoven\\\\Sonata, Opus.111 C minor No.1.mid',\n",
       " 'Classical Archives - The Greats (MIDI)\\\\Beethoven\\\\Symphonies\\\\Symphony n2 op36 1mov.mid': 'Classical Archives - The Greats (MIDI)\\\\Beethoven\\\\Symphonies\\\\Symphony n2 op36 1mov.mid'}"
      ]
     },
     "execution_count": 21,
     "metadata": {},
     "output_type": "execute_result"
    }
   ],
   "source": [
    "search='beeth'\n",
    "page_number =2\n",
    "cant_resultados = 10\n",
    "\n",
    "page_from = page_number*cant_resultados\n",
    "page_to = page_from + cant_resultados\n",
    "print(page_from,page_to)\n",
    "result = data_index[data_index['indice_lower_search'].str.contains(search.lower())].indice[page_from:page_to].to_dict()\n",
    "result"
   ]
  },
  {
   "cell_type": "code",
   "execution_count": null,
   "metadata": {},
   "outputs": [],
   "source": [
    "## DROP DUPLICATES CODE"
   ]
  },
  {
   "cell_type": "code",
   "execution_count": null,
   "metadata": {},
   "outputs": [],
   "source": [
    "data_midi['len'] = data_midi.indice.apply( lambda x: len(x))\n",
    "data_midi.sort_values('len', ascending=False,inplace=True)"
   ]
  },
  {
   "cell_type": "code",
   "execution_count": null,
   "metadata": {},
   "outputs": [],
   "source": [
    "cols = ['scale_note_avg_1','scale_note_avg_2','scale_note_avg_3','scale_note_avg_4','scale_note_avg_5','scale_note_avg_6','scale_note_avg_7']\n",
    "mask_zeros = data_midi[cols].sum(axis=1) != 0\n",
    "data_midi_without_zeros = data_midi.loc[mask_zeros,cols]\n",
    "data_midi_without_zeros_duplicated_mask = data_midi_without_zeros.duplicated(keep='first')\n",
    "list_index_to_drop = data_midi_without_zeros[data_midi_without_zeros_duplicated_mask].index\n",
    "len(list_index_to_drop)"
   ]
  },
  {
   "cell_type": "code",
   "execution_count": null,
   "metadata": {},
   "outputs": [],
   "source": [
    "del data_midi['len']"
   ]
  },
  {
   "cell_type": "code",
   "execution_count": null,
   "metadata": {},
   "outputs": [],
   "source": [
    "data_midi_drop_duplicated = data_midi.drop(list_index_to_drop)\n",
    "data_midi_drop_duplicated.shape"
   ]
  },
  {
   "cell_type": "code",
   "execution_count": null,
   "metadata": {},
   "outputs": [],
   "source": [
    "data_midi_drop_duplicated.to_csv(\"data_midi_drop.csv\", index = False)"
   ]
  },
  {
   "cell_type": "code",
   "execution_count": 20,
   "metadata": {},
   "outputs": [],
   "source": [
    "with open('columns_not_categorized.pkl', 'wb') as df_pkl:\n",
    "    pickle.dump(columns_not_categorized, df_pkl)  "
   ]
  },
  {
   "cell_type": "code",
   "execution_count": null,
   "metadata": {},
   "outputs": [],
   "source": [
    "search = 'milonga'\n",
    "data_index[data_index['indice_lower_search'].str.contains(search.lower())].indice[3:4].to_dict()"
   ]
  },
  {
   "cell_type": "code",
   "execution_count": 53,
   "metadata": {},
   "outputs": [],
   "source": [
    "df_scaled = df_scaled.astype(np.float16)"
   ]
  },
  {
   "cell_type": "code",
   "execution_count": 59,
   "metadata": {},
   "outputs": [
    {
     "ename": "TypeError",
     "evalue": "to_csv() got an unexpected keyword argument 'index_col'",
     "output_type": "error",
     "traceback": [
      "\u001b[1;31m---------------------------------------------------------------------------\u001b[0m",
      "\u001b[1;31mTypeError\u001b[0m                                 Traceback (most recent call last)",
      "\u001b[1;32m<ipython-input-59-73d26cadec43>\u001b[0m in \u001b[0;36m<module>\u001b[1;34m\u001b[0m\n\u001b[1;32m----> 1\u001b[1;33m \u001b[0mdf_scaled\u001b[0m\u001b[1;33m.\u001b[0m\u001b[0mto_csv\u001b[0m\u001b[1;33m(\u001b[0m\u001b[1;34m\"df_scaled.csv\"\u001b[0m\u001b[1;33m,\u001b[0m\u001b[0mindex_col\u001b[0m\u001b[1;33m=\u001b[0m\u001b[1;34m'indice'\u001b[0m\u001b[1;33m)\u001b[0m\u001b[1;33m\u001b[0m\u001b[1;33m\u001b[0m\u001b[0m\n\u001b[0m",
      "\u001b[1;31mTypeError\u001b[0m: to_csv() got an unexpected keyword argument 'index_col'"
     ]
    }
   ],
   "source": [
    "df_scaled.to_csv(\"df_scaled.csv\")"
   ]
  },
  {
   "cell_type": "code",
   "execution_count": 21,
   "metadata": {},
   "outputs": [],
   "source": [
    "data_index.to_csv(\"data_index.csv\",)"
   ]
  },
  {
   "cell_type": "code",
   "execution_count": 60,
   "metadata": {},
   "outputs": [],
   "source": [
    "df_scaled = pd.read_csv('df_scaled.csv',sep=\",\",index_col='indice')"
   ]
  },
  {
   "cell_type": "code",
   "execution_count": 77,
   "metadata": {},
   "outputs": [],
   "source": [
    "data_index = pd.read_csv('data_index.csv',sep=\",\",index_col='indice.1')"
   ]
  },
  {
   "cell_type": "code",
   "execution_count": 8,
   "metadata": {},
   "outputs": [],
   "source": [
    "import os, sys"
   ]
  },
  {
   "cell_type": "code",
   "execution_count": 184,
   "metadata": {},
   "outputs": [
    {
     "data": {
      "text/html": [
       "<div>\n",
       "<style scoped>\n",
       "    .dataframe tbody tr th:only-of-type {\n",
       "        vertical-align: middle;\n",
       "    }\n",
       "\n",
       "    .dataframe tbody tr th {\n",
       "        vertical-align: top;\n",
       "    }\n",
       "\n",
       "    .dataframe thead th {\n",
       "        text-align: right;\n",
       "    }\n",
       "</style>\n",
       "<table border=\"1\" class=\"dataframe\">\n",
       "  <thead>\n",
       "    <tr style=\"text-align: right;\">\n",
       "      <th></th>\n",
       "      <th>file</th>\n",
       "      <th>file_c</th>\n",
       "    </tr>\n",
       "  </thead>\n",
       "  <tbody>\n",
       "    <tr>\n",
       "      <th>0</th>\n",
       "      <td>C:\\dh\\FULL_MIDI\\Full_MIDI\\0\\040 Feat Erica Bax...</td>\n",
       "      <td>C:\\dh\\FULL_MIDI\\Full_MIDI\\0\\040 Feat Erica Bax...</td>\n",
       "    </tr>\n",
       "    <tr>\n",
       "      <th>1</th>\n",
       "      <td>C:\\dh\\FULL_MIDI\\Full_MIDI\\0\\050620B (The Child...</td>\n",
       "      <td>C:\\dh\\FULL_MIDI\\Full_MIDI\\0\\050620B (The Child...</td>\n",
       "    </tr>\n",
       "    <tr>\n",
       "      <th>2</th>\n",
       "      <td>C:\\dh\\FULL_MIDI\\Full_MIDI\\0\\051230.MID</td>\n",
       "      <td>C:\\dh\\FULL_MIDI\\Full_MIDI\\0\\051230.MID</td>\n",
       "    </tr>\n",
       "    <tr>\n",
       "      <th>3</th>\n",
       "      <td>C:\\dh\\FULL_MIDI\\Full_MIDI\\0\\060107-Sonnet 73.MID</td>\n",
       "      <td>C:\\dh\\FULL_MIDI\\Full_MIDI\\0\\060107-Sonnet 73.MID</td>\n",
       "    </tr>\n",
       "    <tr>\n",
       "      <th>4</th>\n",
       "      <td>C:\\dh\\FULL_MIDI\\Full_MIDI\\0\\060222-Tribute to ...</td>\n",
       "      <td>C:\\dh\\FULL_MIDI\\Full_MIDI\\0\\060222-Tribute to ...</td>\n",
       "    </tr>\n",
       "    <tr>\n",
       "      <th>...</th>\n",
       "      <td>...</td>\n",
       "      <td>...</td>\n",
       "    </tr>\n",
       "    <tr>\n",
       "      <th>88230</th>\n",
       "      <td>C:\\dh\\FULL_MIDI\\Full_MIDI\\Z\\Z\\zyysayr.mid</td>\n",
       "      <td>C:\\dh\\FULL_MIDI\\Full_MIDI\\Z\\Z\\zyysayr.mid</td>\n",
       "    </tr>\n",
       "    <tr>\n",
       "      <th>88231</th>\n",
       "      <td>C:\\dh\\FULL_MIDI\\Full_MIDI\\Z\\Z\\zz_top-shes_just...</td>\n",
       "      <td>C:\\dh\\FULL_MIDI\\Full_MIDI\\Z\\Z\\zz_top-shes_just...</td>\n",
       "    </tr>\n",
       "    <tr>\n",
       "      <th>88232</th>\n",
       "      <td>C:\\dh\\FULL_MIDI\\Full_MIDI\\Z\\Z\\zzdq.MID</td>\n",
       "      <td>C:\\dh\\FULL_MIDI\\Full_MIDI\\Z\\Z\\zzdq.MID</td>\n",
       "    </tr>\n",
       "    <tr>\n",
       "      <th>88233</th>\n",
       "      <td>C:\\dh\\FULL_MIDI\\Full_MIDI\\Z\\Z\\zzgsv.mid</td>\n",
       "      <td>C:\\dh\\FULL_MIDI\\Full_MIDI\\Z\\Z\\zzgsv.mid</td>\n",
       "    </tr>\n",
       "    <tr>\n",
       "      <th>88234</th>\n",
       "      <td>C:\\dh\\FULL_MIDI\\Full_MIDI\\Z\\Z\\zzgundam.mid</td>\n",
       "      <td>C:\\dh\\FULL_MIDI\\Full_MIDI\\Z\\Z\\zzgundam.mid</td>\n",
       "    </tr>\n",
       "  </tbody>\n",
       "</table>\n",
       "<p>88235 rows × 2 columns</p>\n",
       "</div>"
      ],
      "text/plain": [
       "                                                    file  \\\n",
       "0      C:\\dh\\FULL_MIDI\\Full_MIDI\\0\\040 Feat Erica Bax...   \n",
       "1      C:\\dh\\FULL_MIDI\\Full_MIDI\\0\\050620B (The Child...   \n",
       "2                 C:\\dh\\FULL_MIDI\\Full_MIDI\\0\\051230.MID   \n",
       "3       C:\\dh\\FULL_MIDI\\Full_MIDI\\0\\060107-Sonnet 73.MID   \n",
       "4      C:\\dh\\FULL_MIDI\\Full_MIDI\\0\\060222-Tribute to ...   \n",
       "...                                                  ...   \n",
       "88230          C:\\dh\\FULL_MIDI\\Full_MIDI\\Z\\Z\\zyysayr.mid   \n",
       "88231  C:\\dh\\FULL_MIDI\\Full_MIDI\\Z\\Z\\zz_top-shes_just...   \n",
       "88232             C:\\dh\\FULL_MIDI\\Full_MIDI\\Z\\Z\\zzdq.MID   \n",
       "88233            C:\\dh\\FULL_MIDI\\Full_MIDI\\Z\\Z\\zzgsv.mid   \n",
       "88234         C:\\dh\\FULL_MIDI\\Full_MIDI\\Z\\Z\\zzgundam.mid   \n",
       "\n",
       "                                                  file_c  \n",
       "0      C:\\dh\\FULL_MIDI\\Full_MIDI\\0\\040 Feat Erica Bax...  \n",
       "1      C:\\dh\\FULL_MIDI\\Full_MIDI\\0\\050620B (The Child...  \n",
       "2                 C:\\dh\\FULL_MIDI\\Full_MIDI\\0\\051230.MID  \n",
       "3       C:\\dh\\FULL_MIDI\\Full_MIDI\\0\\060107-Sonnet 73.MID  \n",
       "4      C:\\dh\\FULL_MIDI\\Full_MIDI\\0\\060222-Tribute to ...  \n",
       "...                                                  ...  \n",
       "88230          C:\\dh\\FULL_MIDI\\Full_MIDI\\Z\\Z\\zyysayr.mid  \n",
       "88231  C:\\dh\\FULL_MIDI\\Full_MIDI\\Z\\Z\\zz_top-shes_just...  \n",
       "88232             C:\\dh\\FULL_MIDI\\Full_MIDI\\Z\\Z\\zzdq.MID  \n",
       "88233            C:\\dh\\FULL_MIDI\\Full_MIDI\\Z\\Z\\zzgsv.mid  \n",
       "88234         C:\\dh\\FULL_MIDI\\Full_MIDI\\Z\\Z\\zzgundam.mid  \n",
       "\n",
       "[88235 rows x 2 columns]"
      ]
     },
     "metadata": {},
     "output_type": "display_data"
    }
   ],
   "source": [
    "files_path = str(sys.path[0]) + '\\Full_MIDI'\n",
    "\n",
    "dict = {}\n",
    "count_files = 0\n",
    "      \n",
    "for root, dirs, files in os.walk(files_path, topdown=False):\n",
    "    for name_file in files:\n",
    "        dict[count_files] = {\"file\": os.path.join(root, name_file), \"file_c\": os.path.join(root, name_file)}\n",
    "        count_files = count_files + 1\n",
    "\n",
    "df_files = pd.DataFrame.from_dict(dict, \"index\")\n",
    "df_files.sort_values('file',inplace=True)\n",
    "df_files.reset_index(inplace=True,drop=True)\n",
    "display(df_files)"
   ]
  },
  {
   "cell_type": "code",
   "execution_count": 185,
   "metadata": {},
   "outputs": [
    {
     "data": {
      "text/html": [
       "<div>\n",
       "<style scoped>\n",
       "    .dataframe tbody tr th:only-of-type {\n",
       "        vertical-align: middle;\n",
       "    }\n",
       "\n",
       "    .dataframe tbody tr th {\n",
       "        vertical-align: top;\n",
       "    }\n",
       "\n",
       "    .dataframe thead th {\n",
       "        text-align: right;\n",
       "    }\n",
       "</style>\n",
       "<table border=\"1\" class=\"dataframe\">\n",
       "  <thead>\n",
       "    <tr style=\"text-align: right;\">\n",
       "      <th></th>\n",
       "      <th>file</th>\n",
       "      <th>file_c</th>\n",
       "    </tr>\n",
       "  </thead>\n",
       "  <tbody>\n",
       "    <tr>\n",
       "      <th>0</th>\n",
       "      <td>0\\040 feat erica baxter - dreams (lost witness...</td>\n",
       "      <td>C:\\dh\\FULL_MIDI\\Full_MIDI\\0\\040 Feat Erica Bax...</td>\n",
       "    </tr>\n",
       "    <tr>\n",
       "      <th>1</th>\n",
       "      <td>0\\050620b (the children of the night).mid</td>\n",
       "      <td>C:\\dh\\FULL_MIDI\\Full_MIDI\\0\\050620B (The Child...</td>\n",
       "    </tr>\n",
       "    <tr>\n",
       "      <th>2</th>\n",
       "      <td>0\\051230.mid</td>\n",
       "      <td>C:\\dh\\FULL_MIDI\\Full_MIDI\\0\\051230.MID</td>\n",
       "    </tr>\n",
       "    <tr>\n",
       "      <th>3</th>\n",
       "      <td>0\\060107-sonnet 73.mid</td>\n",
       "      <td>C:\\dh\\FULL_MIDI\\Full_MIDI\\0\\060107-Sonnet 73.MID</td>\n",
       "    </tr>\n",
       "    <tr>\n",
       "      <th>4</th>\n",
       "      <td>0\\060222-tribute to mozart.mid</td>\n",
       "      <td>C:\\dh\\FULL_MIDI\\Full_MIDI\\0\\060222-Tribute to ...</td>\n",
       "    </tr>\n",
       "    <tr>\n",
       "      <th>...</th>\n",
       "      <td>...</td>\n",
       "      <td>...</td>\n",
       "    </tr>\n",
       "    <tr>\n",
       "      <th>88230</th>\n",
       "      <td>z\\z\\zyysayr.mid</td>\n",
       "      <td>C:\\dh\\FULL_MIDI\\Full_MIDI\\Z\\Z\\zyysayr.mid</td>\n",
       "    </tr>\n",
       "    <tr>\n",
       "      <th>88231</th>\n",
       "      <td>z\\z\\zz_top-shes_just_killing_me.mid</td>\n",
       "      <td>C:\\dh\\FULL_MIDI\\Full_MIDI\\Z\\Z\\zz_top-shes_just...</td>\n",
       "    </tr>\n",
       "    <tr>\n",
       "      <th>88232</th>\n",
       "      <td>z\\z\\zzdq.mid</td>\n",
       "      <td>C:\\dh\\FULL_MIDI\\Full_MIDI\\Z\\Z\\zzdq.MID</td>\n",
       "    </tr>\n",
       "    <tr>\n",
       "      <th>88233</th>\n",
       "      <td>z\\z\\zzgsv.mid</td>\n",
       "      <td>C:\\dh\\FULL_MIDI\\Full_MIDI\\Z\\Z\\zzgsv.mid</td>\n",
       "    </tr>\n",
       "    <tr>\n",
       "      <th>88234</th>\n",
       "      <td>z\\z\\zzgundam.mid</td>\n",
       "      <td>C:\\dh\\FULL_MIDI\\Full_MIDI\\Z\\Z\\zzgundam.mid</td>\n",
       "    </tr>\n",
       "  </tbody>\n",
       "</table>\n",
       "<p>88235 rows × 2 columns</p>\n",
       "</div>"
      ],
      "text/plain": [
       "                                                    file  \\\n",
       "0      0\\040 feat erica baxter - dreams (lost witness...   \n",
       "1              0\\050620b (the children of the night).mid   \n",
       "2                                           0\\051230.mid   \n",
       "3                                 0\\060107-sonnet 73.mid   \n",
       "4                         0\\060222-tribute to mozart.mid   \n",
       "...                                                  ...   \n",
       "88230                                    z\\z\\zyysayr.mid   \n",
       "88231                z\\z\\zz_top-shes_just_killing_me.mid   \n",
       "88232                                       z\\z\\zzdq.mid   \n",
       "88233                                      z\\z\\zzgsv.mid   \n",
       "88234                                   z\\z\\zzgundam.mid   \n",
       "\n",
       "                                                  file_c  \n",
       "0      C:\\dh\\FULL_MIDI\\Full_MIDI\\0\\040 Feat Erica Bax...  \n",
       "1      C:\\dh\\FULL_MIDI\\Full_MIDI\\0\\050620B (The Child...  \n",
       "2                 C:\\dh\\FULL_MIDI\\Full_MIDI\\0\\051230.MID  \n",
       "3       C:\\dh\\FULL_MIDI\\Full_MIDI\\0\\060107-Sonnet 73.MID  \n",
       "4      C:\\dh\\FULL_MIDI\\Full_MIDI\\0\\060222-Tribute to ...  \n",
       "...                                                  ...  \n",
       "88230          C:\\dh\\FULL_MIDI\\Full_MIDI\\Z\\Z\\zyysayr.mid  \n",
       "88231  C:\\dh\\FULL_MIDI\\Full_MIDI\\Z\\Z\\zz_top-shes_just...  \n",
       "88232             C:\\dh\\FULL_MIDI\\Full_MIDI\\Z\\Z\\zzdq.MID  \n",
       "88233            C:\\dh\\FULL_MIDI\\Full_MIDI\\Z\\Z\\zzgsv.mid  \n",
       "88234         C:\\dh\\FULL_MIDI\\Full_MIDI\\Z\\Z\\zzgundam.mid  \n",
       "\n",
       "[88235 rows x 2 columns]"
      ]
     },
     "execution_count": 185,
     "metadata": {},
     "output_type": "execute_result"
    }
   ],
   "source": [
    "df_files.file = df_files.file.apply(lambda x: x.replace('C:\\dh\\FULL_MIDI\\Full_MIDI\\\\','').lower().replace('/', '*'))\n",
    "df_files"
   ]
  },
  {
   "cell_type": "code",
   "execution_count": 186,
   "metadata": {},
   "outputs": [],
   "source": [
    "data_index.indice_lower_search = data_index.indice_lower_search.apply(lambda x: x.replace('/', '\\\\'))"
   ]
  },
  {
   "cell_type": "code",
   "execution_count": 187,
   "metadata": {},
   "outputs": [
    {
     "data": {
      "text/plain": [
       "indice\n",
       "5/5i.mid    5\\5i.mid\n",
       "5/56.mid    5\\56.mid\n",
       "4/4i.mid    4\\4i.mid\n",
       "2/27.mid    2\\27.mid\n",
       "7/7.mid      7\\7.mid\n",
       "9/9.MID      9\\9.mid\n",
       "4/4.mid      4\\4.mid\n",
       "5\\5.mid      5\\5.mid\n",
       "2/2.mid      2\\2.mid\n",
       "1/1.MID      1\\1.mid\n",
       "Name: indice_lower_search, dtype: object"
      ]
     },
     "execution_count": 187,
     "metadata": {},
     "output_type": "execute_result"
    }
   ],
   "source": [
    "data_index.indice_lower_search.tail(10)"
   ]
  },
  {
   "cell_type": "code",
   "execution_count": 188,
   "metadata": {},
   "outputs": [],
   "source": [
    "df_files_join = df_files.set_index('file').join(data_index.set_index('indice_lower_search'), how='left')"
   ]
  },
  {
   "cell_type": "code",
   "execution_count": 190,
   "metadata": {},
   "outputs": [
    {
     "data": {
      "text/html": [
       "<div>\n",
       "<style scoped>\n",
       "    .dataframe tbody tr th:only-of-type {\n",
       "        vertical-align: middle;\n",
       "    }\n",
       "\n",
       "    .dataframe tbody tr th {\n",
       "        vertical-align: top;\n",
       "    }\n",
       "\n",
       "    .dataframe thead th {\n",
       "        text-align: right;\n",
       "    }\n",
       "</style>\n",
       "<table border=\"1\" class=\"dataframe\">\n",
       "  <thead>\n",
       "    <tr style=\"text-align: right;\">\n",
       "      <th></th>\n",
       "      <th>file_c</th>\n",
       "      <th>indice</th>\n",
       "      <th>indice_lower</th>\n",
       "    </tr>\n",
       "  </thead>\n",
       "  <tbody>\n",
       "  </tbody>\n",
       "</table>\n",
       "</div>"
      ],
      "text/plain": [
       "Empty DataFrame\n",
       "Columns: [file_c, indice, indice_lower]\n",
       "Index: []"
      ]
     },
     "execution_count": 190,
     "metadata": {},
     "output_type": "execute_result"
    }
   ],
   "source": [
    "df_delete = df_files_join[df_files_join.indice.isnull()]\n",
    "df_delete"
   ]
  },
  {
   "cell_type": "code",
   "execution_count": 182,
   "metadata": {},
   "outputs": [],
   "source": [
    "for file in df_delete.file_c.to_list():\n",
    "    os.remove(file)"
   ]
  },
  {
   "cell_type": "code",
   "execution_count": null,
   "metadata": {},
   "outputs": [],
   "source": []
  }
 ],
 "metadata": {
  "kernelspec": {
   "display_name": "Python 3",
   "language": "python",
   "name": "python3"
  },
  "language_info": {
   "codemirror_mode": {
    "name": "ipython",
    "version": 3
   },
   "file_extension": ".py",
   "mimetype": "text/x-python",
   "name": "python",
   "nbconvert_exporter": "python",
   "pygments_lexer": "ipython3",
   "version": "3.7.9"
  }
 },
 "nbformat": 4,
 "nbformat_minor": 4
}
